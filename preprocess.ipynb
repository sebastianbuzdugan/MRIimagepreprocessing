{
 "cells": [
  {
   "cell_type": "markdown",
   "metadata": {},
   "source": [
    "## preprocessor algo"
   ]
  },
  {
   "cell_type": "code",
   "execution_count": 14,
   "metadata": {},
   "outputs": [
    {
     "data": {
      "application/vnd.jupyter.widget-view+json": {
       "model_id": "34cbeaa7741248a587d7ccd2ae90fd89",
       "version_major": 2,
       "version_minor": 0
      },
      "text/plain": [
       "Processing Patients:   0%|          | 0/644 [00:00<?, ?it/s]"
      ]
     },
     "metadata": {},
     "output_type": "display_data"
    },
    {
     "ename": "AssertionError",
     "evalue": "/Volumes/VERBATIM SD/datasets/PKG - UPENN-GBM-NIfTI/UPENN-GBM/NIfTI-files/images_structural_unstripped/UPENN-GBM-00001_11/UPENN-GBM-00001_11_T1_unstripped.nii.gz doesn't exist",
     "output_type": "error",
     "traceback": [
      "\u001b[0;31m---------------------------------------------------------------------------\u001b[0m",
      "\u001b[0;31mAssertionError\u001b[0m                            Traceback (most recent call last)",
      "Cell \u001b[0;32mIn[14], line 34\u001b[0m\n\u001b[1;32m     31\u001b[0m patient_output_folder \u001b[38;5;241m=\u001b[39m os\u001b[38;5;241m.\u001b[39mpath\u001b[38;5;241m.\u001b[39mjoin(output_base_dir, patient_id)\n\u001b[1;32m     33\u001b[0m \u001b[38;5;66;03m# Initialize and run the Preprocessor\u001b[39;00m\n\u001b[0;32m---> 34\u001b[0m ppr \u001b[38;5;241m=\u001b[39m \u001b[43mPreprocessor\u001b[49m\u001b[43m(\u001b[49m\u001b[43mdict_img\u001b[49m\u001b[38;5;241;43m=\u001b[39;49m\u001b[43m{\u001b[49m\n\u001b[1;32m     35\u001b[0m \u001b[43m                        \u001b[49m\u001b[38;5;124;43m'\u001b[39;49m\u001b[38;5;124;43mT1\u001b[39;49m\u001b[38;5;124;43m'\u001b[39;49m\u001b[43m:\u001b[49m\u001b[43m \u001b[49m\u001b[43mos\u001b[49m\u001b[38;5;241;43m.\u001b[39;49m\u001b[43mpath\u001b[49m\u001b[38;5;241;43m.\u001b[39;49m\u001b[43mjoin\u001b[49m\u001b[43m(\u001b[49m\u001b[43mpatient_image_dir\u001b[49m\u001b[43m,\u001b[49m\u001b[43m \u001b[49m\u001b[38;5;124;43mf\u001b[39;49m\u001b[38;5;124;43m\"\u001b[39;49m\u001b[38;5;132;43;01m{\u001b[39;49;00m\u001b[43mpatient_id\u001b[49m\u001b[38;5;132;43;01m}\u001b[39;49;00m\u001b[38;5;124;43m_T1_unstripped.nii.gz\u001b[39;49m\u001b[38;5;124;43m\"\u001b[39;49m\u001b[43m)\u001b[49m\u001b[43m,\u001b[49m\n\u001b[1;32m     36\u001b[0m \u001b[43m                        \u001b[49m\u001b[38;5;124;43m'\u001b[39;49m\u001b[38;5;124;43mT2\u001b[39;49m\u001b[38;5;124;43m'\u001b[39;49m\u001b[43m:\u001b[49m\u001b[43m \u001b[49m\u001b[43mos\u001b[49m\u001b[38;5;241;43m.\u001b[39;49m\u001b[43mpath\u001b[49m\u001b[38;5;241;43m.\u001b[39;49m\u001b[43mjoin\u001b[49m\u001b[43m(\u001b[49m\u001b[43mpatient_image_dir\u001b[49m\u001b[43m,\u001b[49m\u001b[43m \u001b[49m\u001b[38;5;124;43mf\u001b[39;49m\u001b[38;5;124;43m\"\u001b[39;49m\u001b[38;5;132;43;01m{\u001b[39;49;00m\u001b[43mpatient_id\u001b[49m\u001b[38;5;132;43;01m}\u001b[39;49;00m\u001b[38;5;124;43m_T2_unstripped.nii.gz\u001b[39;49m\u001b[38;5;124;43m\"\u001b[39;49m\u001b[43m)\u001b[49m\u001b[43m,\u001b[49m\n\u001b[1;32m     37\u001b[0m \u001b[43m                        \u001b[49m\u001b[38;5;124;43m'\u001b[39;49m\u001b[38;5;124;43mFLAIR\u001b[39;49m\u001b[38;5;124;43m'\u001b[39;49m\u001b[43m:\u001b[49m\u001b[43m \u001b[49m\u001b[43mos\u001b[49m\u001b[38;5;241;43m.\u001b[39;49m\u001b[43mpath\u001b[49m\u001b[38;5;241;43m.\u001b[39;49m\u001b[43mjoin\u001b[49m\u001b[43m(\u001b[49m\u001b[43mpatient_image_dir\u001b[49m\u001b[43m,\u001b[49m\u001b[43m \u001b[49m\u001b[38;5;124;43mf\u001b[39;49m\u001b[38;5;124;43m\"\u001b[39;49m\u001b[38;5;132;43;01m{\u001b[39;49;00m\u001b[43mpatient_id\u001b[49m\u001b[38;5;132;43;01m}\u001b[39;49;00m\u001b[38;5;124;43m_FLAIR_unstripped.nii.gz\u001b[39;49m\u001b[38;5;124;43m\"\u001b[39;49m\u001b[43m)\u001b[49m\u001b[43m}\u001b[49m\u001b[43m,\u001b[49m\n\u001b[1;32m     38\u001b[0m \u001b[43m                   \u001b[49m\u001b[43moutput_folder\u001b[49m\u001b[38;5;241;43m=\u001b[39;49m\u001b[43mpatient_output_folder\u001b[49m\u001b[43m,\u001b[49m\n\u001b[1;32m     39\u001b[0m \u001b[43m                   \u001b[49m\u001b[43mreference\u001b[49m\u001b[38;5;241;43m=\u001b[39;49m\u001b[38;5;124;43m'\u001b[39;49m\u001b[38;5;124;43mT1\u001b[39;49m\u001b[38;5;124;43m'\u001b[39;49m\u001b[43m,\u001b[49m\n\u001b[1;32m     40\u001b[0m \u001b[43m                   \u001b[49m\u001b[43mlabel\u001b[49m\u001b[38;5;241;43m=\u001b[39;49m\u001b[38;5;28;43;01mNone\u001b[39;49;00m\u001b[43m,\u001b[49m\n\u001b[1;32m     41\u001b[0m \u001b[43m                   \u001b[49m\u001b[43mprefix\u001b[49m\u001b[38;5;241;43m=\u001b[39;49m\u001b[38;5;124;43m'\u001b[39;49m\u001b[38;5;124;43m'\u001b[39;49m\u001b[43m,\u001b[49m\n\u001b[1;32m     42\u001b[0m \u001b[43m                   \u001b[49m\u001b[43malready_coregistered\u001b[49m\u001b[38;5;241;43m=\u001b[39;49m\u001b[38;5;28;43;01mFalse\u001b[39;49;00m\u001b[43m,\u001b[49m\n\u001b[1;32m     43\u001b[0m \u001b[43m                   \u001b[49m\u001b[43mmni\u001b[49m\u001b[38;5;241;43m=\u001b[39;49m\u001b[38;5;28;43;01mTrue\u001b[39;49;00m\u001b[43m,\u001b[49m\n\u001b[1;32m     44\u001b[0m \u001b[43m                   \u001b[49m\u001b[43mcrop\u001b[49m\u001b[38;5;241;43m=\u001b[39;49m\u001b[38;5;28;43;01mTrue\u001b[39;49;00m\u001b[43m)\u001b[49m\n\u001b[1;32m     46\u001b[0m ppr\u001b[38;5;241m.\u001b[39mrun_pipeline()\n\u001b[1;32m     48\u001b[0m \u001b[38;5;66;03m# Ensure files are prepared for skull stripping\u001b[39;00m\n",
      "File \u001b[0;32m~/Downloads/MRIPreprocessor-master/MRIPreprocessor/mri_preprocessor.py:41\u001b[0m, in \u001b[0;36mPreprocessor.__init__\u001b[0;34m(self, dict_img, output_folder, label, prefix, reference, skull_stripping, already_coregistered, mni, crop)\u001b[0m\n\u001b[1;32m     39\u001b[0m \u001b[38;5;66;03m# Test files are existing\u001b[39;00m\n\u001b[1;32m     40\u001b[0m \u001b[38;5;28;01mfor\u001b[39;00m mod \u001b[38;5;129;01min\u001b[39;00m dict_img\u001b[38;5;241m.\u001b[39mkeys():\n\u001b[0;32m---> 41\u001b[0m     \u001b[38;5;28;01massert\u001b[39;00m os\u001b[38;5;241m.\u001b[39mpath\u001b[38;5;241m.\u001b[39mexists(dict_img[mod]), \u001b[38;5;124mf\u001b[39m\u001b[38;5;124m\"\u001b[39m\u001b[38;5;132;01m{\u001b[39;00mdict_img[mod]\u001b[38;5;132;01m}\u001b[39;00m\u001b[38;5;124m doesn\u001b[39m\u001b[38;5;124m'\u001b[39m\u001b[38;5;124mt exist\u001b[39m\u001b[38;5;124m\"\u001b[39m\n\u001b[1;32m     42\u001b[0m \u001b[38;5;28;01mif\u001b[39;00m \u001b[38;5;129;01mnot\u001b[39;00m label \u001b[38;5;129;01mis\u001b[39;00m \u001b[38;5;28;01mNone\u001b[39;00m:\n\u001b[1;32m     43\u001b[0m     \u001b[38;5;28;01massert\u001b[39;00m os\u001b[38;5;241m.\u001b[39mpath\u001b[38;5;241m.\u001b[39mexists(label), \u001b[38;5;124m\"\u001b[39m\u001b[38;5;124mLabel map doesn\u001b[39m\u001b[38;5;124m'\u001b[39m\u001b[38;5;124mt exist\u001b[39m\u001b[38;5;124m\"\u001b[39m\n",
      "\u001b[0;31mAssertionError\u001b[0m: /Volumes/VERBATIM SD/datasets/PKG - UPENN-GBM-NIfTI/UPENN-GBM/NIfTI-files/images_structural_unstripped/UPENN-GBM-00001_11/UPENN-GBM-00001_11_T1_unstripped.nii.gz doesn't exist"
     ]
    }
   ],
   "source": [
    "import pandas as pd\n",
    "from MRIPreprocessor.mri_preprocessor import Preprocessor\n",
    "import os\n",
    "import shutil\n",
    "from tqdm.notebook import tqdm\n",
    "\n",
    "def ensure_files_for_skull_stripping(patient_id, output_base_dir):\n",
    "    src_folder = os.path.join(output_base_dir, patient_id, \"coregistration\")\n",
    "    dst_folder = os.path.join(output_base_dir, patient_id, \"skullstripping\")\n",
    "    if not os.path.exists(dst_folder):\n",
    "        os.makedirs(dst_folder)\n",
    "    for file_name in ['T1.nii.gz', 'T2.nii.gz', 'FLAIR.nii.gz']:\n",
    "        src_file = os.path.join(src_folder, file_name)\n",
    "        dst_file = os.path.join(dst_folder, file_name)\n",
    "        if os.path.exists(src_file) and not os.path.exists(dst_file):\n",
    "            shutil.copy(src_file, dst_file) \n",
    "\n",
    "# Load clinical information\n",
    "clinical_info_path = '/Users/sebi/Downloads/MRIPreprocessor-master/UPENN-GBM_clinical_info_preprocessed_v1.2.csv'\n",
    "clinical_df = pd.read_csv(clinical_info_path)\n",
    "\n",
    "# Define base and output directories\n",
    "base_dir = '/Volumes/VERBATIM SD/datasets/PKG - UPENN-GBM-NIfTI/UPENN-GBM/NIfTI-files/images_structural_unstripped'\n",
    "output_base_dir = '/Volumes/VERBATIM SD/datasets/output'\n",
    "\n",
    "# Process each patient\n",
    "for index, row in tqdm(clinical_df.iterrows(), total=clinical_df.shape[0], desc=\"Processing Patients\"):\n",
    "    patient_id = row['ID']\n",
    "    patient_image_dir = os.path.join(base_dir, patient_id)\n",
    "    patient_output_folder = os.path.join(output_base_dir, patient_id)\n",
    "\n",
    "    # Initialize and run the Preprocessor\n",
    "    ppr = Preprocessor(dict_img={\n",
    "                            'T1': os.path.join(patient_image_dir, f\"{patient_id}_T1_unstripped.nii.gz\"),\n",
    "                            'T2': os.path.join(patient_image_dir, f\"{patient_id}_T2_unstripped.nii.gz\"),\n",
    "                            'FLAIR': os.path.join(patient_image_dir, f\"{patient_id}_FLAIR_unstripped.nii.gz\")},\n",
    "                       output_folder=patient_output_folder,\n",
    "                       reference='T1',\n",
    "                       label=None,\n",
    "                       prefix='',\n",
    "                       already_coregistered=False,\n",
    "                       mni=True,\n",
    "                       crop=True)\n",
    "\n",
    "    ppr.run_pipeline()\n",
    "\n",
    "    # Ensure files are prepared for skull stripping\n",
    "    ensure_files_for_skull_stripping(patient_id, output_base_dir)\n",
    "\n",
    "    print(f\"Finished preprocessing for patient {patient_id}.\")\n"
   ]
  }
 ],
 "metadata": {
  "kernelspec": {
   "display_name": "Python 3",
   "language": "python",
   "name": "python3"
  },
  "language_info": {
   "codemirror_mode": {
    "name": "ipython",
    "version": 3
   },
   "file_extension": ".py",
   "mimetype": "text/x-python",
   "name": "python",
   "nbconvert_exporter": "python",
   "pygments_lexer": "ipython3",
   "version": "3.8.10"
  }
 },
 "nbformat": 4,
 "nbformat_minor": 2
}
